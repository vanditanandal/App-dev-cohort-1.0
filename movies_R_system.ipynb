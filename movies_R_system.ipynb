{
  "nbformat": 4,
  "nbformat_minor": 0,
  "metadata": {
    "colab": {
      "private_outputs": true,
      "provenance": [],
      "mount_file_id": "1_nz1z3GN87fme23CzvGUCYOzO-i3t-7Q",
      "authorship_tag": "ABX9TyMCYmlSdAgJqWpuSBV/MIbN",
      "include_colab_link": true
    },
    "kernelspec": {
      "name": "python3",
      "display_name": "Python 3"
    },
    "language_info": {
      "name": "python"
    }
  },
  "cells": [
    {
      "cell_type": "markdown",
      "metadata": {
        "id": "view-in-github",
        "colab_type": "text"
      },
      "source": [
        "<a href=\"https://colab.research.google.com/github/vanditanandal/App-dev-cohort-1.0/blob/main/movies_R_system.ipynb\" target=\"_parent\"><img src=\"https://colab.research.google.com/assets/colab-badge.svg\" alt=\"Open In Colab\"/></a>"
      ]
    },
    {
      "cell_type": "code",
      "execution_count": null,
      "metadata": {
        "id": "7Yem60c7u_Ak"
      },
      "outputs": [],
      "source": [
        "import numpy as np\n",
        "import pandas as pd\n",
        "import difflib as db\n",
        "from sklearn.feature_extraction.text import TfidfVectorizer\n",
        "from sklearn.metrics.pairwise import cosine_similarity"
      ]
    },
    {
      "cell_type": "markdown",
      "source": [
        "### data collection and preprocesing"
      ],
      "metadata": {
        "id": "3Gq1w4EpyXod"
      }
    },
    {
      "cell_type": "code",
      "source": [
        "movies_dataset=pd.read_csv(\"/content/drive/MyDrive/movies.csv\",index_col='index')"
      ],
      "metadata": {
        "id": "IDqwUv_2xfJ3"
      },
      "execution_count": null,
      "outputs": []
    },
    {
      "cell_type": "code",
      "source": [
        "movies_dataset.head()"
      ],
      "metadata": {
        "id": "8OBEer4dygYW"
      },
      "execution_count": null,
      "outputs": []
    },
    {
      "cell_type": "code",
      "source": [
        "movies_dataset.columns"
      ],
      "metadata": {
        "id": "xWmiVFn3yjNR"
      },
      "execution_count": null,
      "outputs": []
    },
    {
      "cell_type": "code",
      "source": [
        "movies_dataset.shape"
      ],
      "metadata": {
        "id": "NN6D6eT9zu8G"
      },
      "execution_count": null,
      "outputs": []
    },
    {
      "cell_type": "markdown",
      "source": [
        "### selecting relevant features for recommendation"
      ],
      "metadata": {
        "id": "iK_uyIAp1C9j"
      }
    },
    {
      "cell_type": "code",
      "source": [
        "selected_features=['genres','keywords','tagline','cast','director']"
      ],
      "metadata": {
        "id": "UNOR_jBC02pP"
      },
      "execution_count": null,
      "outputs": []
    },
    {
      "cell_type": "code",
      "source": [
        "selected_features"
      ],
      "metadata": {
        "id": "Qj1vJjqp1-53"
      },
      "execution_count": null,
      "outputs": []
    },
    {
      "cell_type": "code",
      "source": [
        "movies_dataset.isnull().sum()"
      ],
      "metadata": {
        "id": "yzOaIqUa2AZS"
      },
      "execution_count": null,
      "outputs": []
    },
    {
      "cell_type": "markdown",
      "source": [
        "### replacing null values with null string"
      ],
      "metadata": {
        "id": "EEVCpyIr2K1U"
      }
    },
    {
      "cell_type": "code",
      "source": [
        "for feature in selected_features:\n",
        "  movies_dataset[feature]=movies_dataset[feature].fillna('')"
      ],
      "metadata": {
        "id": "SsJQ_6LS2GLw"
      },
      "execution_count": null,
      "outputs": []
    },
    {
      "cell_type": "code",
      "source": [
        "movies_dataset.isnull().sum()"
      ],
      "metadata": {
        "id": "QtkynFBZ2WHb"
      },
      "execution_count": null,
      "outputs": []
    },
    {
      "cell_type": "markdown",
      "source": [
        "### combining all 5 selected features"
      ],
      "metadata": {
        "id": "2AyGvUHE3QE_"
      }
    },
    {
      "cell_type": "code",
      "source": [
        "combined_features=movies_dataset['genres']+' '+movies_dataset['keywords']+' '+movies_dataset['tagline']+' '+movies_dataset['cast']+' '+movies_dataset['director']"
      ],
      "metadata": {
        "id": "FMtYTaMh2cbd"
      },
      "execution_count": null,
      "outputs": []
    },
    {
      "cell_type": "code",
      "source": [
        "combined_features"
      ],
      "metadata": {
        "id": "Y9L4QpgK3ew4"
      },
      "execution_count": null,
      "outputs": []
    },
    {
      "cell_type": "code",
      "source": [
        "#conerting the text data to feature vectors\n",
        "vectorizer=TfidfVectorizer()"
      ],
      "metadata": {
        "id": "Ajsj9pSG3gkx"
      },
      "execution_count": null,
      "outputs": []
    },
    {
      "cell_type": "code",
      "source": [
        "feature_vectors=vectorizer.fit_transform(combined_features)"
      ],
      "metadata": {
        "id": "Vyx68aHUhs18"
      },
      "execution_count": null,
      "outputs": []
    },
    {
      "cell_type": "code",
      "source": [
        "print(feature_vectors)"
      ],
      "metadata": {
        "id": "vE9WAUCViFOA"
      },
      "execution_count": null,
      "outputs": []
    },
    {
      "cell_type": "markdown",
      "source": [
        "### Cosine similarity"
      ],
      "metadata": {
        "id": "EngtLvHViU9t"
      }
    },
    {
      "cell_type": "code",
      "source": [
        "# getting the similarity using cosine similarity\n",
        "similarity=cosine_similarity(feature_vectors)"
      ],
      "metadata": {
        "id": "ow7YHaZIiiGf"
      },
      "execution_count": null,
      "outputs": []
    },
    {
      "cell_type": "code",
      "source": [
        "similarity"
      ],
      "metadata": {
        "id": "B6dz6ckUijS5"
      },
      "execution_count": null,
      "outputs": []
    },
    {
      "cell_type": "code",
      "source": [
        "similarity.shape"
      ],
      "metadata": {
        "id": "hfEraEX4jAfc"
      },
      "execution_count": null,
      "outputs": []
    },
    {
      "cell_type": "code",
      "source": [
        "# getting the movie name from user\n",
        "movie_user=input(\"Enter your favourite movie name: \")"
      ],
      "metadata": {
        "id": "r0N03bMejC4I"
      },
      "execution_count": null,
      "outputs": []
    },
    {
      "cell_type": "code",
      "source": [
        "#creating a list with all the movie names given in the dataset\n",
        "list_of_all_titles=movies_dataset['title'].tolist()"
      ],
      "metadata": {
        "id": "o8z-xUzFkAxN"
      },
      "execution_count": null,
      "outputs": []
    },
    {
      "cell_type": "code",
      "source": [
        "list_of_all_titles"
      ],
      "metadata": {
        "id": "zm6W8B2DkZso"
      },
      "execution_count": null,
      "outputs": []
    },
    {
      "cell_type": "code",
      "source": [
        "#finding the clsoe match for the movie name\n",
        "find_close_match=db.get_close_matches(movie_user,list_of_all_titles)"
      ],
      "metadata": {
        "id": "brZZv9iwkbqv"
      },
      "execution_count": null,
      "outputs": []
    },
    {
      "cell_type": "code",
      "source": [
        "find_close_match"
      ],
      "metadata": {
        "id": "ul2bqiJxk27b"
      },
      "execution_count": null,
      "outputs": []
    },
    {
      "cell_type": "code",
      "source": [
        "close_match=find_close_match[0]\n",
        "close_match"
      ],
      "metadata": {
        "id": "84Pt97pvk5x_"
      },
      "execution_count": null,
      "outputs": []
    },
    {
      "cell_type": "code",
      "source": [
        "#finding index of the movie based on the title\n",
        "index_of_movie = movies_dataset[movies_dataset['title'] == close_match].index[0]"
      ],
      "metadata": {
        "id": "IFbN8SrzlOwb"
      },
      "execution_count": null,
      "outputs": []
    },
    {
      "cell_type": "code",
      "source": [
        "index_of_movie"
      ],
      "metadata": {
        "id": "onMVoczDllDK"
      },
      "execution_count": null,
      "outputs": []
    },
    {
      "cell_type": "code",
      "source": [
        "#getting a list of similar movies\n",
        "similarity_score=list(enumerate(similarity[index_of_movie]))"
      ],
      "metadata": {
        "id": "w8aK4UoFoI_l"
      },
      "execution_count": null,
      "outputs": []
    },
    {
      "cell_type": "code",
      "source": [
        "similarity_score"
      ],
      "metadata": {
        "id": "UK7VQe2koMK6"
      },
      "execution_count": null,
      "outputs": []
    },
    {
      "cell_type": "code",
      "source": [
        "len(similarity_score)"
      ],
      "metadata": {
        "id": "Dnwd9h51osiB"
      },
      "execution_count": null,
      "outputs": []
    },
    {
      "cell_type": "code",
      "source": [
        "#soritng the movies based on their similarity score\n",
        "sorted_similar_movies=sorted(similarity_score,key=lambda x:x[1],reverse=True)"
      ],
      "metadata": {
        "id": "Y5sYiJm7ovwF"
      },
      "execution_count": null,
      "outputs": []
    },
    {
      "cell_type": "code",
      "source": [
        "sorted_similar_movies"
      ],
      "metadata": {
        "id": "zgFwL1ekoycN"
      },
      "execution_count": null,
      "outputs": []
    },
    {
      "cell_type": "code",
      "source": [
        "# print the name sof similar movies based on the index\n",
        "print('Movies suggested for you: \\n')\n",
        "\n",
        "i=1\n",
        "\n",
        "for movie in sorted_similar_movies:\n",
        "  index=movie[0]\n",
        "  title_from_index=movies_dataset[movies_dataset.index==index]['title'].values[0]\n",
        "  if(i<30):\n",
        "    print(i,title_from_index)\n",
        "    i+=1"
      ],
      "metadata": {
        "id": "c3DNG3olo0dp"
      },
      "execution_count": null,
      "outputs": []
    },
    {
      "cell_type": "markdown",
      "source": [
        "### Movie recommendation system"
      ],
      "metadata": {
        "id": "uu2hEH31qWpe"
      }
    },
    {
      "cell_type": "code",
      "source": [
        "movie_name = input(' Enter your favourite movie name : ')\n",
        "\n",
        "list_of_all_titles = movies_dataset['title'].tolist()\n",
        "\n",
        "find_close_match = db.get_close_matches(movie_name, list_of_all_titles)\n",
        "\n",
        "close_match = find_close_match[0]\n",
        "\n",
        "index_of_movie = movies_dataset[movies_dataset['title'] == close_match].index[0]\n",
        "\n",
        "similarity_score = list(enumerate(similarity[index_of_movie]))\n",
        "\n",
        "sorted_similar_movies = sorted(similarity_score, key = lambda x:x[1], reverse = True)\n",
        "\n",
        "print('Movies suggested for you : \\n')\n",
        "\n",
        "i = 1\n",
        "\n",
        "for movie in sorted_similar_movies:\n",
        "  index = movie[0]\n",
        "  title_from_index = movies_dataset[movies_dataset.index==index]['title'].values[0]\n",
        "  if (i<30):\n",
        "    print(i, '.',title_from_index)\n",
        "    i+=1"
      ],
      "metadata": {
        "id": "Ex7SpllYptvM"
      },
      "execution_count": null,
      "outputs": []
    },
    {
      "cell_type": "code",
      "source": [],
      "metadata": {
        "id": "KpsvytXPqr1h"
      },
      "execution_count": null,
      "outputs": []
    }
  ]
}